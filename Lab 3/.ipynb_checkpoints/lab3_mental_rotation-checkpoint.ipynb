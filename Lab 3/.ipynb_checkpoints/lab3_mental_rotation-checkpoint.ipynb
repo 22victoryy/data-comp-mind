{
 "cells": [
  {
   "cell_type": "markdown",
   "metadata": {},
   "source": [
    "## Lab 3 - Mental Rotation"
   ]
  },
  {
   "cell_type": "markdown",
   "metadata": {},
   "source": [
    "In this experiment, 54 subjects performed a mental rotation task similar to Shepard & Metzler (1971): multiple pairs of 3D objects were presented at four different rotating angles. Data was obtained from Ganis & Kievit (2015).\n",
    "\n",
    "The goal is to analyze the relationship between subjects' reaction times (dependent variable) and angles (independent variable) both within subjects **[Tasks 1-3]** and across subjects **[Tasks 4-5]**.\n",
    "\n",
    "Begin your solution as prompted below; everything else was written.\n",
    "\n",
    "Refer to the lecture slides for the set of functions that you might use for this lab.\n"
   ]
  },
  {
   "cell_type": "markdown",
   "metadata": {},
   "source": [
    "This lab must be done **individually**. The required packages have been imported for you below."
   ]
  },
  {
   "cell_type": "code",
   "execution_count": 1,
   "metadata": {},
   "outputs": [],
   "source": [
    "import matplotlib.pyplot as plt\n",
    "import numpy as np\n",
    "import pandas as pd\n",
    "import pickle\n",
    "from scipy.stats import linregress"
   ]
  },
  {
   "cell_type": "markdown",
   "metadata": {},
   "source": [
    "Total number of subjects in the experiment that you will analyze."
   ]
  },
  {
   "cell_type": "code",
   "execution_count": 2,
   "metadata": {},
   "outputs": [],
   "source": [
    "nsubject = 54"
   ]
  },
  {
   "cell_type": "markdown",
   "metadata": {},
   "source": [
    "The four angles (in degrees) at which 3D objects were presented."
   ]
  },
  {
   "cell_type": "code",
   "execution_count": 3,
   "metadata": {},
   "outputs": [],
   "source": [
    "unique_angles = [0,50,100,150] "
   ]
  },
  {
   "cell_type": "markdown",
   "metadata": {},
   "source": [
    "Create place-holder variable for recording mean response times (see below)."
   ]
  },
  {
   "cell_type": "code",
   "execution_count": 4,
   "metadata": {},
   "outputs": [],
   "source": [
    "rt_matrix = np.zeros((nsubject,4))"
   ]
  },
  {
   "cell_type": "markdown",
   "metadata": {},
   "source": [
    "Create place-holder variable for recording slopes (see below)."
   ]
  },
  {
   "cell_type": "code",
   "execution_count": 5,
   "metadata": {},
   "outputs": [],
   "source": [
    "slopes = np.zeros(nsubject)"
   ]
  },
  {
   "cell_type": "markdown",
   "metadata": {},
   "source": [
    "Create a meta figure that visualizes results for individual subjects, then begin analysis."
   ]
  },
  {
   "cell_type": "code",
   "execution_count": 6,
   "metadata": {},
   "outputs": [
    {
     "ename": "FileNotFoundError",
     "evalue": "[Errno 2] No such file or directory: 'data-mental-rotation/sub1.pickle'",
     "output_type": "error",
     "traceback": [
      "\u001b[0;31m---------------------------------------------------------------------------\u001b[0m",
      "\u001b[0;31mFileNotFoundError\u001b[0m                         Traceback (most recent call last)",
      "\u001b[0;32m<ipython-input-6-f7e9a2140e21>\u001b[0m in \u001b[0;36m<module>\u001b[0;34m\u001b[0m\n\u001b[1;32m      8\u001b[0m \u001b[0;34m\u001b[0m\u001b[0m\n\u001b[1;32m      9\u001b[0m     \u001b[0;31m# Read in experimental data\u001b[0m\u001b[0;34m\u001b[0m\u001b[0;34m\u001b[0m\u001b[0m\n\u001b[0;32m---> 10\u001b[0;31m     \u001b[0;32mwith\u001b[0m \u001b[0mopen\u001b[0m\u001b[0;34m(\u001b[0m\u001b[0mfn_in\u001b[0m\u001b[0;34m+\u001b[0m\u001b[0;34m'.pickle'\u001b[0m\u001b[0;34m,\u001b[0m \u001b[0;34m'rb'\u001b[0m\u001b[0;34m)\u001b[0m \u001b[0;32mas\u001b[0m \u001b[0mf\u001b[0m\u001b[0;34m:\u001b[0m  \u001b[0;31m# Python 3: open(..., 'wb')\u001b[0m\u001b[0;34m\u001b[0m\u001b[0m\n\u001b[0m\u001b[1;32m     11\u001b[0m         \u001b[0mstimuli\u001b[0m\u001b[0;34m,\u001b[0m \u001b[0mrt\u001b[0m\u001b[0;34m,\u001b[0m \u001b[0mangle\u001b[0m\u001b[0;34m,\u001b[0m \u001b[0macc\u001b[0m\u001b[0;34m,\u001b[0m \u001b[0mind_stimuli\u001b[0m \u001b[0;34m=\u001b[0m \u001b[0mpickle\u001b[0m\u001b[0;34m.\u001b[0m\u001b[0mload\u001b[0m\u001b[0;34m(\u001b[0m\u001b[0mf\u001b[0m\u001b[0;34m)\u001b[0m\u001b[0;34m\u001b[0m\u001b[0m\n\u001b[1;32m     12\u001b[0m \u001b[0;34m\u001b[0m\u001b[0m\n",
      "\u001b[0;31mFileNotFoundError\u001b[0m: [Errno 2] No such file or directory: 'data-mental-rotation/sub1.pickle'"
     ]
    },
    {
     "data": {
      "text/plain": [
       "<Figure size 2400x1600 with 0 Axes>"
      ]
     },
     "metadata": {},
     "output_type": "display_data"
    }
   ],
   "source": [
    "fig = plt.figure(figsize=(30, 20), dpi= 80, facecolor='w', edgecolor='k')\n",
    "\n",
    "# Loop over the subjects\n",
    "for s in range(0,nsubject):\n",
    "    \n",
    "    # Specify the file name of the subject in question\n",
    "    fn_in = 'data-mental-rotation/sub'+str(s+1)\n",
    "\n",
    "    # Read in experimental data\n",
    "    with open(fn_in+'.pickle', 'rb') as f:  # Python 3: open(..., 'wb')\n",
    "        stimuli, rt, angle, acc, ind_stimuli = pickle.load(f)\n",
    "        \n",
    "    # Focus on trials where stimulus pair is matched\n",
    "    inds= np.where(ind_stimuli==0)\n",
    "    \n",
    "    # Record the reaction time (rt) for each trial in a vector\n",
    "    rt = np.float32(rt[inds])\n",
    "    # Record the angle of the object pair for each trial in a vector\n",
    "    angle = np.float32(angle[inds])\n",
    "    \n",
    "    \n",
    "    #========== Your solution begins here ==========\n",
    "    \n",
    "    # Task 1: Line fitting [3pts]\n",
    "    \n",
    "    #-------Task 1.1-------\n",
    "    # Fit a line (linear regression) between reaction time (rt) and angle\n",
    "    # i.e. rt = angle x slope + intercept\n",
    "    \n",
    "    #-------Task 1.2-------\n",
    "    # Record the slope for this subject in place-holder variable \"slopes\"\n",
    "    \n",
    "    \n",
    "    # Create a subplot for this subject\n",
    "    plt.subplot(6,9,s+1)\n",
    "    \n",
    "    # Task 2: Within-subject visualization [2pts]\n",
    "    \n",
    "    #-------Task 2.1-------\n",
    "    # Scatter plot reaction times (y-axis) against angles (x-axis)\n",
    "    \n",
    "    \n",
    "    #-------Task 2.2-------\n",
    "    # Juxtapose the fitted line onto this scatter plot\n",
    "    \n",
    "    \n",
    "    # Specify title of the plot by subject index\n",
    "    plt.title('s'+str(s+1))\n",
    "        \n",
    "    # Task 3: Within-subject statistics [1pt]\n",
    "        \n",
    "    #-------Task 3.1-------\n",
    "    # Calculate within-subject mean response time across trials, for each angle\n",
    "\n",
    "    \n",
    "    #-------Task 3.2-------\n",
    "    # Record this value in place-holder variable \"rt_matrix\"\n",
    "    \n",
    "    \n",
    "plt.show()"
   ]
  },
  {
   "cell_type": "markdown",
   "metadata": {},
   "source": [
    "### Task 4: Across-subject visualization [2pts]"
   ]
  },
  {
   "cell_type": "markdown",
   "metadata": {},
   "source": [
    "**Task 4.1**: Take the average of mean response times across subjects, for each angle."
   ]
  },
  {
   "cell_type": "code",
   "execution_count": null,
   "metadata": {},
   "outputs": [],
   "source": [
    "# Write your code here."
   ]
  },
  {
   "cell_type": "markdown",
   "metadata": {},
   "source": [
    "**Task 4.2**: Take the standard deviation of mean response times across subjects, for each angle."
   ]
  },
  {
   "cell_type": "code",
   "execution_count": 14,
   "metadata": {
    "collapsed": true
   },
   "outputs": [],
   "source": [
    "# Write your code here."
   ]
  },
  {
   "cell_type": "markdown",
   "metadata": {},
   "source": [
    "**Task 4.3**: Plot the average and standard deviation values calculated above, against the four angles.\n",
    "\n",
    "**Task 4.4**: Label both axes."
   ]
  },
  {
   "cell_type": "code",
   "execution_count": 15,
   "metadata": {
    "collapsed": true
   },
   "outputs": [],
   "source": [
    "# plt.figure()\n",
    "\n",
    "# Write your code here.\n",
    "\n",
    "# plt.show()"
   ]
  },
  {
   "cell_type": "markdown",
   "metadata": {},
   "source": [
    "### Task 5: Across-subject statistics [2pts]"
   ]
  },
  {
   "cell_type": "markdown",
   "metadata": {},
   "source": [
    "**Task 5.1**: Plot a histogram of slopes (across subjects) from the line fits in **Tasks 1.1** and **1.2**.\n",
    "\n",
    "**Task 5.2**: Label both axes."
   ]
  },
  {
   "cell_type": "code",
   "execution_count": 16,
   "metadata": {
    "collapsed": true
   },
   "outputs": [],
   "source": [
    "# Write your code here.\n",
    "\n",
    "# plt.show()"
   ]
  },
  {
   "cell_type": "markdown",
   "metadata": {},
   "source": [
    "Export and submit a **fully executable** Python Jupyter Notebook and a PDF copy of your notebook showing all results. Please follow the usual naming convention for **both** your Jupyter Notebook and PDF files: `lab3_writeup_YourStudentNumber.pdf`"
   ]
  },
  {
   "cell_type": "code",
   "execution_count": null,
   "metadata": {
    "collapsed": true
   },
   "outputs": [],
   "source": []
  }
 ],
 "metadata": {
  "anaconda-cloud": {},
  "kernelspec": {
   "display_name": "Python 3",
   "language": "python",
   "name": "python3"
  },
  "language_info": {
   "codemirror_mode": {
    "name": "ipython",
    "version": 3
   },
   "file_extension": ".py",
   "mimetype": "text/x-python",
   "name": "python",
   "nbconvert_exporter": "python",
   "pygments_lexer": "ipython3",
   "version": "3.6.2"
  }
 },
 "nbformat": 4,
 "nbformat_minor": 1
}
