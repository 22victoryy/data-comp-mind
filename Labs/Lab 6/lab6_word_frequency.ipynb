{
 "cells": [
  {
   "cell_type": "markdown",
   "metadata": {},
   "source": [
    "## Lab 6 - Frequency"
   ]
  },
  {
   "cell_type": "markdown",
   "metadata": {},
   "source": [
    "This lab must be done **individually**. The required packages have been imported for you below."
   ]
  },
  {
   "cell_type": "code",
   "execution_count": 1,
   "metadata": {},
   "outputs": [],
   "source": [
    "import string\n",
    "import numpy as np\n",
    "from scipy.stats import pearsonr \n",
    "import matplotlib.pyplot as plt"
   ]
  },
  {
   "cell_type": "markdown",
   "metadata": {},
   "source": [
    "Load text file. Data from Project Gutenberg (https://www.gutenberg.org/)."
   ]
  },
  {
   "cell_type": "code",
   "execution_count": 2,
   "metadata": {},
   "outputs": [],
   "source": [
    "txt = open(\"ulysses.txt\",\"r\")"
   ]
  },
  {
   "cell_type": "markdown",
   "metadata": {},
   "source": [
    "Remove punctuations in text."
   ]
  },
  {
   "cell_type": "code",
   "execution_count": 3,
   "metadata": {},
   "outputs": [],
   "source": [
    "remove = dict.fromkeys(map(ord, string.punctuation))"
   ]
  },
  {
   "cell_type": "markdown",
   "metadata": {},
   "source": [
    "Collapse tokens to lower case."
   ]
  },
  {
   "cell_type": "code",
   "execution_count": 4,
   "metadata": {},
   "outputs": [],
   "source": [
    "txt = txt.read().translate(remove).lower()"
   ]
  },
  {
   "cell_type": "markdown",
   "metadata": {},
   "source": [
    "Construct a dictionary where `key` = word, `value` = count (or frequency)."
   ]
  },
  {
   "cell_type": "code",
   "execution_count": 5,
   "metadata": {},
   "outputs": [],
   "source": [
    "wordfreq = {}\n",
    "for word in txt.split():\n",
    "    if word not in wordfreq:\n",
    "        wordfreq[word] = 1\n",
    "    else:\n",
    "        wordfreq[word] += 1"
   ]
  },
  {
   "cell_type": "markdown",
   "metadata": {},
   "source": [
    "**Hint**: Print `wordfreq` to see what this dictionary contains.\n",
    "\n",
    "To work with keys and values in dictionaries, you may refer to https://docs.python.org/2/tutorial/datastructures.html.\n",
    "Alternatively, refer to the Python tutorial posted on course syllabus.\n",
    "\n",
    "In this lab, you will reconstruct the classic work by Zipf (1949) on the properties of word frequency---read Zipf's chapter posted. Following these instructions and enjoy this final lab of the course!"
   ]
  },
  {
   "cell_type": "markdown",
   "metadata": {},
   "source": [
    "### Task 1 [2 pts]\n",
    "\n",
    "**Hint**: For how to `sort` and use `list` comprehension in Python, see the Python tutorial posted on course syllabus."
   ]
  },
  {
   "cell_type": "markdown",
   "metadata": {},
   "source": [
    "**Task 1a**: Construct an array of sorted word frequency of all words, and a separate array of word lengths."
   ]
  },
  {
   "cell_type": "code",
   "execution_count": 65,
   "metadata": {},
   "outputs": [
    {
     "name": "stdout",
     "output_type": "stream",
     "text": [
      "Sorted word Frequency List: [15010, 8250, 7216, 6512, 5031, 4974, 3998, 3327, 2586, 2557]\n",
      "Length of sorted words by their frequencies: [3, 2, 3, 1, 2, 2, 2, 3, 4, 4]\n"
     ]
    }
   ],
   "source": [
    "# Write your code here.\n",
    "\n",
    "# Extract frequency from dict and convert to list\n",
    "wordfreq_list = list(map(lambda x: [x, wordfreq[x]] , wordfreq.keys()))\n",
    "\n",
    "# Construct sorted word frequency list\n",
    "sorted_wf_all = sorted(wordfreq_list, key=lambda x: x[1], reverse=True)\n",
    "sorted_wf = [i[1] for i in sorted_wf_all]\n",
    "print('Sorted word Frequency List: {}'.format(sorted_wf[:10]))\n",
    "\n",
    "sorted_wf_len = [len(i[0]) for i in sorted_wf_all]\n",
    "print('Length of sorted words by their frequencies: {}'.format(sorted_wf_len[:10]))"
   ]
  },
  {
   "cell_type": "markdown",
   "metadata": {},
   "source": [
    "**Task 1b**: Construct an array of ranks from on the sorted frequency array in **Task 1a** (using ordinal rank)."
   ]
  },
  {
   "cell_type": "code",
   "execution_count": 67,
   "metadata": {},
   "outputs": [
    {
     "name": "stdout",
     "output_type": "stream",
     "text": [
      "Word rank list:  [1, 2, 3, 4, 5, 6, 7, 8, 9, 10]\n"
     ]
    }
   ],
   "source": [
    "# Write your code here.\n",
    "rank = [i for i in range(1, len(sorted_wf) + 1)]\n",
    "print (\"Word rank list: \", rank[:10])"
   ]
  },
  {
   "cell_type": "markdown",
   "metadata": {},
   "source": [
    "**Task 1c**: Print the most frequent 20 words and their frequencies. **[1pt]**"
   ]
  },
  {
   "cell_type": "code",
   "execution_count": 73,
   "metadata": {},
   "outputs": [
    {
     "name": "stdout",
     "output_type": "stream",
     "text": [
      "Most frequent 20 words: ['the', 'of', 'and', 'a', 'to', 'in', 'he', 'his', 'that', 'with', 'i', 'it', 'was', 'on', 'for', 'you', 'her', 'him', 'is', 'all']\n",
      "Their frequencies: [15010, 8250, 7216, 6512, 5031, 4974, 3998, 3327, 2586, 2557, 2553, 2351, 2126, 2119, 1950, 1914, 1783, 1522, 1435, 1329]\n"
     ]
    }
   ],
   "source": [
    "# Write your code here.\n",
    "sorted_wf_words = [i[0] for i in sorted_wf_all]\n",
    "print('Most frequent 20 words: {}'.format(sorted_wf_words[:20]))\n",
    "print('Their frequencies: {}'.format(sorted_wf[:20]))"
   ]
  },
  {
   "cell_type": "markdown",
   "metadata": {},
   "source": [
    "### Task 2 [3 pts]"
   ]
  },
  {
   "cell_type": "markdown",
   "metadata": {
    "collapsed": true
   },
   "source": [
    "Produce a 2-by-2 set of subplots using `subplot`: https://matplotlib.org/api/_as_gen/matplotlib.pyplot.subplot.html\n",
    "\n",
    "**Task 2a**: Scatter plot word frequency (y-axis) against rank (x-axis). **[.5pt]**\n",
    "\n",
    "**Task 2b**: Scatter plot $log(freq)$ against $log(rank)$. **[.5pt]**\n",
    "\n",
    "**Task 2c**: Calculate and report the slope from **Task 2b** (via linear regression), i.e. slope of $log(freq)$ vs $log(rank)$. **[.5pt]**\n",
    "\n",
    "**Task 2d**: Scatter plot frequency against word length. **[.5pt]**\n",
    "\n",
    "**Task 2e**: Scatter plot $log(freq)$ against word length. **[.5pt]**"
   ]
  },
  {
   "cell_type": "code",
   "execution_count": 105,
   "metadata": {},
   "outputs": [
    {
     "name": "stdout",
     "output_type": "stream",
     "text": [
      "The slope for logarithmic rank line is:  -1.0332621845538867\n",
      "The slope for logarithmic frequency line is:  -0.9375752989297238\n"
     ]
    },
    {
     "data": {
      "text/plain": [
       "Text(0, 0.5, 'Log Frequency')"
      ]
     },
     "execution_count": 105,
     "metadata": {},
     "output_type": "execute_result"
    },
    {
     "data": {
      "image/png": "[encoded data removed]",
      "text/plain": [
       "<Figure size 432x288 with 4 Axes>"
      ]
     },
     "metadata": {
      "needs_background": "light"
     },
     "output_type": "display_data"
    }
   ],
   "source": [
    "from math import log\n",
    "\n",
    "# Task 2a\n",
    "# Write your code here.\n",
    "plt.subplot(2, 2, 1)\n",
    "plt.scatter(rank, sorted_wf, marker='.')\n",
    "plt.title(\"Frequency vs Rank\")\n",
    "plt.xlabel('Rank')\n",
    "plt.ylabel('Frequency')\n",
    "\n",
    "# Task 2b\n",
    "# Write your code here.\n",
    "log_rank = [log(x) for x in rank]\n",
    "log_freq = [log(x) for x in sorted_wf]\n",
    "plt.subplot(2, 2, 2)\n",
    "plt.scatter(log_rank, log_freq)\n",
    "plt.title(\"Log Frequency vs Log Rank\")\n",
    "plt.xlabel('Log Rank')\n",
    "plt.ylabel('Log Frequency')\n",
    "\n",
    "\n",
    "# Task 2c\n",
    "# Write your code here.\n",
    "linefit = np.polyfit(log_rank, log_freq, 1) # 1 degree, straight line\n",
    "slope = linefit[0]\n",
    "print (\"The slope for logarithmic rank line is: \", slope)\n",
    "\n",
    "linefit_two = np.polyfit(log_freq, log_rank, 1)\n",
    "slope = linefit_two[0]\n",
    "print (\"The slope for logarithmic frequency line is: \", slope)\n",
    "    \n",
    "# Task 2d\n",
    "# Write your code here.\n",
    "plt.subplot(2, 2, 3)\n",
    "plt.scatter(sorted_wf_len, sorted_wf)\n",
    "plt.title(\"Frequency vs Length\")\n",
    "plt.xlabel('Length')\n",
    "plt.ylabel('Frequency')\n",
    "\n",
    "\n",
    "# Task 2e\n",
    "# Write your code here.\n",
    "plt.subplot(2, 2, 4)\n",
    "log_sorted_wf = [log(x) for x in sorted_wf]\n",
    "plt.scatter(sorted_wf_len, log_sorted_wf)\n",
    "plt.title(\"Log Frequency vs Length\")\n",
    "plt.xlabel('Length')\n",
    "plt.ylabel('Log Frequency')\n"
   ]
  },
  {
   "cell_type": "markdown",
   "metadata": {},
   "source": [
    "### Task 3 [1 pt]\n",
    "\n",
    "Calculate and report the Pearson correlation between $log(freq)$ and word length. **[.5pt]**\n",
    "\n",
    "**Hint**: You may use `scipy.stats.pearsonr`; the first output is Pearson correlation."
   ]
  },
  {
   "cell_type": "code",
   "execution_count": 108,
   "metadata": {},
   "outputs": [
    {
     "name": "stdout",
     "output_type": "stream",
     "text": [
      "Pearson Correlation. -0.3111938895177389 \n"
     ]
    }
   ],
   "source": [
    "# Write your code here.\n",
    "pearson = pearsonr(log_sorted_wf, sorted_wf_len)\n",
    "corr = pearson[0]\n",
    "print (\"Pearson Correlation. {} \".format(corr))\n",
    "print(\"\")"
   ]
  },
  {
   "cell_type": "markdown",
   "metadata": {},
   "source": [
    "### Task 4 [5 pts]"
   ]
  },
  {
   "cell_type": "markdown",
   "metadata": {},
   "source": [
    "**Task 4a**: Calculate and report the expected word length of English words based on the given data. **[1pt]**\n",
    "\n",
    "$E[len] = \\sum^{i} len(i) * prob(i)$, where $prob(i)$ = normalized frequency of word $i$ (over all available words)."
   ]
  },
  {
   "cell_type": "code",
   "execution_count": 11,
   "metadata": {},
   "outputs": [],
   "source": [
    "# Write your code here."
   ]
  },
  {
   "cell_type": "markdown",
   "metadata": {},
   "source": [
    "**Task 4b**: Perform a shuffled (permutation) test with 1000 shuffled trials. **[1pt]**"
   ]
  },
  {
   "cell_type": "code",
   "execution_count": 53,
   "metadata": {
    "collapsed": true
   },
   "outputs": [],
   "source": [
    "# Write your code here."
   ]
  },
  {
   "cell_type": "markdown",
   "metadata": {},
   "source": [
    "**Task 4c**: Based on the shuffled trials, histogram the expected word lengths from the shuffled data. **[.5pt]**"
   ]
  },
  {
   "cell_type": "code",
   "execution_count": 1,
   "metadata": {
    "collapsed": true
   },
   "outputs": [],
   "source": [
    "# Write your code here."
   ]
  },
  {
   "cell_type": "markdown",
   "metadata": {},
   "source": [
    "**Task 4d**: Calculate and report the _p-value_ from the shuffled test. \n",
    "\n",
    "The null hypothesis is that the expected word length is no different from the expected length from shuffled data. \n",
    "Based on the _p-value_ you have obtained, conclude whether the null should be rejected $(p<0.05)$. **[.5pt]**"
   ]
  },
  {
   "cell_type": "code",
   "execution_count": 55,
   "metadata": {
    "collapsed": true
   },
   "outputs": [],
   "source": [
    "# Write your code here."
   ]
  },
  {
   "cell_type": "markdown",
   "metadata": {},
   "source": [
    "**Task 5**: Propose an alternative way of mapping words to frequencies and show that it produces a lower expected length than the empirical value you calculated, justify your proposal, and print the top 20 most frequent words under this proposal. **[3pts]**"
   ]
  },
  {
   "cell_type": "code",
   "execution_count": 2,
   "metadata": {
    "collapsed": true
   },
   "outputs": [],
   "source": [
    "# Write your solution here."
   ]
  },
  {
   "cell_type": "markdown",
   "metadata": {},
   "source": [
    "Export and submit a **fully executable** Python Jupyter Notebook and a PDF copy of your notebook showing all results. "
   ]
  },
  {
   "cell_type": "code",
   "execution_count": null,
   "metadata": {
    "collapsed": true
   },
   "outputs": [],
   "source": []
  }
 ],
 "metadata": {
  "anaconda-cloud": {},
  "kernelspec": {
   "display_name": "Python 3",
   "language": "python",
   "name": "python3"
  },
  "language_info": {
   "codemirror_mode": {
    "name": "ipython",
    "version": 3
   },
   "file_extension": ".py",
   "mimetype": "text/x-python",
   "name": "python",
   "nbconvert_exporter": "python",
   "pygments_lexer": "ipython3",
   "version": "3.6.2"
  }
 },
 "nbformat": 4,
 "nbformat_minor": 1
}
