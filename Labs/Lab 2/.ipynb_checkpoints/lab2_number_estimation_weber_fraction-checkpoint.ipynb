{
 "cells": [
  {
   "cell_type": "markdown",
   "metadata": {},
   "source": [
    "## Lab 2 - Number estimation (Weber fraction)"
   ]
  },
  {
   "cell_type": "markdown",
   "metadata": {},
   "source": [
    "This lab must be done **individually**. The required packages have been imported for you below."
   ]
  },
  {
   "cell_type": "code",
   "execution_count": 79,
   "metadata": {},
   "outputs": [],
   "source": [
    "import matplotlib.pyplot as plt\n",
    "import numpy as np\n",
    "import pandas as pd"
   ]
  },
  {
   "cell_type": "markdown",
   "metadata": {},
   "source": [
    "The target number (i.e. ground truth) for each experimental trial is provided in the following python array."
   ]
  },
  {
   "cell_type": "code",
   "execution_count": 80,
   "metadata": {},
   "outputs": [],
   "source": [
    "targets = np.array([3, 8, 40, 2, 5, 30, 7, 35, 6, 15, 10, 20, 9, 25, 4]);"
   ]
  },
  {
   "cell_type": "markdown",
   "metadata": {},
   "source": [
    "Read in the experimental data---these are identical to what you've analyzed in Lab 1. `df` is a dataframe of size _(Participants x Trials)_."
   ]
  },
  {
   "cell_type": "code",
   "execution_count": 81,
   "metadata": {},
   "outputs": [],
   "source": [
    "df = pd.read_csv('data-number-estimation.csv')"
   ]
  },
  {
   "cell_type": "markdown",
   "metadata": {},
   "source": [
    "Compute the $mean$ and standard deviation ($sd$) for each trial (do not use a `for` loop). **[1pt]**\n",
    "\n",
    "**Hint**: Use `df.mean()` and `df.std()`."
   ]
  },
  {
   "cell_type": "code",
   "execution_count": 82,
   "metadata": {},
   "outputs": [
    {
     "name": "stdout",
     "output_type": "stream",
     "text": [
      "The mean is Trial 1      3.000000\n",
      "Trial 2      8.319149\n",
      "Trial 3     28.872340\n",
      "Trial 4      1.978723\n",
      "Trial 5      5.085106\n",
      "Trial 6     27.723404\n",
      "Trial 7      7.234043\n",
      "Trial 8     31.127660\n",
      "Trial 9      6.085106\n",
      "Trial 10    16.425532\n",
      "Trial 11    10.680851\n",
      "Trial 12    21.489362\n",
      "Trial 13     9.744681\n",
      "Trial 14    25.170213\n",
      "Trial 15     4.000000\n",
      "dtype: float64\n",
      "The std is Trial 1     0.000000\n",
      "Trial 2     1.252934\n",
      "Trial 3     8.641701\n",
      "Trial 4     0.145865\n",
      "Trial 5     0.350762\n",
      "Trial 6     8.072234\n",
      "Trial 7     0.757937\n",
      "Trial 8     8.157730\n",
      "Trial 9     0.408059\n",
      "Trial 10    2.668208\n",
      "Trial 11    2.117283\n",
      "Trial 12    4.960156\n",
      "Trial 13    1.938938\n",
      "Trial 14    5.946571\n",
      "Trial 15    0.208514\n",
      "dtype: float64\n"
     ]
    }
   ],
   "source": [
    "# Write your code here\n",
    "\n",
    "mn = df.mean()\n",
    "sd = df.std()\n",
    "\n",
    "print('The mean is {}'.format(mn))\n",
    "print('The std is {}'.format(sd))"
   ]
  },
  {
   "cell_type": "markdown",
   "metadata": {},
   "source": [
    "### Figure 1 [2pts]"
   ]
  },
  {
   "cell_type": "markdown",
   "metadata": {},
   "source": [
    "**Task 1.1**: Plot $mean$ responses against target numbers and add a reference line for the ground truth. **Hint**: Use `plt.plot()`.\n",
    "\n",
    "**Task 1.2**: Plot $mean+sd$ and $mean-sd$. **Hint**: Use `np.add()` and `np.subtract()`.\n",
    "\n",
    "**Task 1.3**: Annotate the graph and axes. **Hint**: Use `plt.legend()` and `plt.xlabel()` and `plt.ylabel()`."
   ]
  },
  {
   "cell_type": "code",
   "execution_count": 83,
   "metadata": {},
   "outputs": [
    {
     "data": {
      "image/png": "[encoded data removed]",
      "text/plain": [
       "<Figure size 432x288 with 1 Axes>"
      ]
     },
     "metadata": {
      "needs_background": "light"
     },
     "output_type": "display_data"
    }
   ],
   "source": [
    "# Task 1.1\n",
    "plt.scatter(targets, mn, color = 'red')\n",
    "expected = plt.plot(targets, targets, color = 'black', label = 'Expected')"
   ]
  },
  {
   "cell_type": "code",
   "execution_count": 84,
   "metadata": {},
   "outputs": [
    {
     "data": {
      "text/plain": [
       "<matplotlib.legend.Legend at 0x118052240>"
      ]
     },
     "execution_count": 84,
     "metadata": {},
     "output_type": "execute_result"
    },
    {
     "data": {
      "image/png": "[encoded data removed]",
      "text/plain": [
       "<Figure size 432x288 with 1 Axes>"
      ]
     },
     "metadata": {
      "needs_background": "light"
     },
     "output_type": "display_data"
    }
   ],
   "source": [
    "# Task 1.2\n",
    "plt.scatter(targets, mn, color = \"red\")\n",
    "add_sd = plt.scatter(targets, np.add(mn, sd), color = 'green', label = 'stdev')\n",
    "subtract_sd = plt.scatter(targets, np.subtract(mn, sd), color = 'green', label = 'stdev')\n",
    "plt.scatter(targets, mn, color = \"red\")\n",
    "expected = plt.plot(targets, targets, color = 'black', label = 'Expected')\n",
    "\n",
    "\n",
    "# Task 1.3\n",
    "plt.xlabel(\"Target\")\n",
    "plt.ylabel(\"Estimate\")\n",
    "plt.title(\"Target VS Estimate Values\")\n",
    "plt.legend()"
   ]
  },
  {
   "cell_type": "markdown",
   "metadata": {},
   "source": [
    "### Figure 2 [2pts]"
   ]
  },
  {
   "cell_type": "markdown",
   "metadata": {},
   "source": [
    "Divide $sd$ by $mean$ for each trial.\n",
    "\n",
    "**Hint**: Use `np.divide()`."
   ]
  },
  {
   "cell_type": "code",
   "execution_count": 85,
   "metadata": {},
   "outputs": [
    {
     "name": "stdout",
     "output_type": "stream",
     "text": [
      "Dividing sd by mn equals: Trial 1     0.000000\n",
      "Trial 2     0.150608\n",
      "Trial 3     0.299307\n",
      "Trial 4     0.073717\n",
      "Trial 5     0.068978\n",
      "Trial 6     0.291170\n",
      "Trial 7     0.104774\n",
      "Trial 8     0.262073\n",
      "Trial 9     0.067059\n",
      "Trial 10    0.162443\n",
      "Trial 11    0.198232\n",
      "Trial 12    0.230819\n",
      "Trial 13    0.198974\n",
      "Trial 14    0.236254\n",
      "Trial 15    0.052129\n",
      "dtype: float64\n"
     ]
    }
   ],
   "source": [
    "sd_over_mean = np.divide(sd, mn)\n",
    "print('Dividing sd by mn equals: {}'.format(sd_over_mean))"
   ]
  },
  {
   "cell_type": "markdown",
   "metadata": {},
   "source": [
    "Uncomment the following line to start a new figure."
   ]
  },
  {
   "cell_type": "code",
   "execution_count": 86,
   "metadata": {},
   "outputs": [
    {
     "data": {
      "text/plain": [
       "<Figure size 432x288 with 0 Axes>"
      ]
     },
     "execution_count": 86,
     "metadata": {},
     "output_type": "execute_result"
    },
    {
     "data": {
      "text/plain": [
       "<Figure size 432x288 with 0 Axes>"
      ]
     },
     "metadata": {},
     "output_type": "display_data"
    }
   ],
   "source": [
    "plt.figure()"
   ]
  },
  {
   "cell_type": "markdown",
   "metadata": {},
   "source": [
    "Plot $\\frac{sd}{mean}$ ratios against the target numbers."
   ]
  },
  {
   "cell_type": "code",
   "execution_count": 87,
   "metadata": {},
   "outputs": [
    {
     "data": {
      "text/plain": [
       "<matplotlib.collections.PathCollection at 0x118e0cb70>"
      ]
     },
     "execution_count": 87,
     "metadata": {},
     "output_type": "execute_result"
    },
    {
     "data": {
      "image/png": "[encoded data removed]",
      "text/plain": [
       "<Figure size 432x288 with 1 Axes>"
      ]
     },
     "metadata": {
      "needs_background": "light"
     },
     "output_type": "display_data"
    }
   ],
   "source": [
    "# Task 1.2\n",
    "plt.scatter(targets, sd_over_mean, color = \"red\")"
   ]
  },
  {
   "cell_type": "markdown",
   "metadata": {},
   "source": [
    "Estimate Weber's fraction in two steps. 1) First choose an appropriate threshold target number (given the plot you've made above) and justify your choice. **[2pts]**"
   ]
  },
  {
   "cell_type": "code",
   "execution_count": 88,
   "metadata": {},
   "outputs": [],
   "source": [
    "thres = 15"
   ]
  },
  {
   "cell_type": "markdown",
   "metadata": {
    "collapsed": true
   },
   "source": [
    "I pick the threshold as 15 because after that certain point, the error rate increases in a much stable fashion than other points. Degree of uncertainty scales with target nuber, so more targets means lower weber fraction (this means lesser error and greater acuity)."
   ]
  },
  {
   "cell_type": "markdown",
   "metadata": {},
   "source": [
    "2) Then calculate Weber fraction by averaging $\\frac{sd}{mean}$ ratios across trials that have targets greater than the threshold you've chosen. **[1pt]**\n",
    "\n",
    "**Hint**: Use `np.where()` and `np.mean()`."
   ]
  },
  {
   "cell_type": "code",
   "execution_count": 89,
   "metadata": {},
   "outputs": [
    {
     "name": "stdout",
     "output_type": "stream",
     "text": [
      "0.24701118916625828\n"
     ]
    }
   ],
   "source": [
    "# plot consists of mean plots\n",
    "# get only means where bigger or equal to than thresh\n",
    "# calculate weber frac\n",
    "\n",
    "idx_bigger_thresh = np.asarray(sd_over_mean)[np.where(df.mean() >= thres)]\n",
    "webfrac = np.mean(idx_bigger_thresh)\n",
    "print(webfrac)"
   ]
  },
  {
   "cell_type": "markdown",
   "metadata": {
    "collapsed": true
   },
   "source": [
    "Export and submit a **fully executable** Python Jupyter Notebook along with a PDF export of your notebook showing all results you've obtained. Please follow the naming convention as suggested in Lab 1.**[2pts]**\n"
   ]
  }
 ],
 "metadata": {
  "anaconda-cloud": {},
  "kernelspec": {
   "display_name": "Python 3",
   "language": "python",
   "name": "python3"
  },
  "language_info": {
   "codemirror_mode": {
    "name": "ipython",
    "version": 3
   },
   "file_extension": ".py",
   "mimetype": "text/x-python",
   "name": "python",
   "nbconvert_exporter": "python",
   "pygments_lexer": "ipython3",
   "version": "3.6.2"
  }
 },
 "nbformat": 4,
 "nbformat_minor": 1
}
