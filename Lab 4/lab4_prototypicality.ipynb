{
 "cells": [
  {
   "cell_type": "markdown",
   "metadata": {},
   "source": [
    "## Lab 4 - Prototypicality"
   ]
  },
  {
   "cell_type": "markdown",
   "metadata": {},
   "source": [
    "This lab must be done **individually**. The required packages have been imported for you below."
   ]
  },
  {
   "cell_type": "code",
   "execution_count": 4,
   "metadata": {
    "collapsed": true
   },
   "outputs": [],
   "source": [
    "import matplotlib.pyplot as plt\n",
    "import numpy as np\n",
    "import pickle\n",
    "from scipy import spatial  "
   ]
  },
  {
   "cell_type": "markdown",
   "metadata": {},
   "source": [
    "**Optional**: Uncomment the following line of code to sanity-check your `pearsonr` function below."
   ]
  },
  {
   "cell_type": "code",
   "execution_count": 5,
   "metadata": {
    "collapsed": true
   },
   "outputs": [],
   "source": [
    "# from scipy.stats import pearsonr"
   ]
  },
  {
   "cell_type": "markdown",
   "metadata": {},
   "source": [
    "Data adapted from Leuven Concept Database (De Deyne et al., 2008). \n",
    "\n",
    "Import data for the lab. \n",
    "\n",
    "**Hint**: Check what these variables are by printing them out."
   ]
  },
  {
   "cell_type": "code",
   "execution_count": 6,
   "metadata": {
    "collapsed": true
   },
   "outputs": [],
   "source": [
    "with open(\"data-prototypicality.pickle\", \"rb\") as f:\n",
    "    birdnames, F, goodness, features = pickle.load(f) "
   ]
  },
  {
   "cell_type": "markdown",
   "metadata": {
    "collapsed": true
   },
   "source": [
    "In this lab, you will construct a simple cognitive model that reproduces human judgments of prototypicality about birds (see corresponding lecture notes for details, particularly the slide that shows the big list of prototypicality ratings on different birds such as sparrows and penguins, in the experiment performed by Rosch).\n",
    "\n",
    "All the essential variables have been imported for you, and please spend some time trying to understand their corresponding data structures, recorded in \"birdnames\", \"F\", \"goodness\", and \"features\", respectively. Specifically, you will be modelling prototypicality for the birds described in \"birdnames\". The feature matrix \"F\" records all the features that people have come up with for these birds, as well as the applicability of the features to the birds. Each entry in this matrix records how many participants considered a feature applies to a bird: 0 indicates that no one considered a bird to have a certain feature, and a higher count (integer) indicates that at least 1 person considered a bird to have a certain feature. You will need to use all features for your model, and all features are annotated in \"features\". Finally, \"goodness\" contains prototypicality ratings taken directly from Rosch's list as shown on the lecture slide (mentioned above). The idea of the following exercise is for you to construct a prototypicality model, such that the model-constructed prototypicality ratings for all the birds in question should ultimately correlate with the ratings recorded in \"goodness\". Note that the conceptual basis for the prototype model has been already discussed in class---see lecture notes posted.\n",
    "\n",
    "\n",
    "\n",
    "### Task 1 [0.5 pt]\n",
    "\n",
    "Calculate the prototype feature vector from all birds, using the `F` variable."
   ]
  },
  {
   "cell_type": "code",
   "execution_count": 7,
   "metadata": {
    "collapsed": true
   },
   "outputs": [],
   "source": [
    "# Write your code here."
   ]
  },
  {
   "cell_type": "markdown",
   "metadata": {
    "collapsed": true
   },
   "source": [
    "### Task 2 [1 pt]\n",
    "Calculate Euclidean distance of each bird to the prototype feature vector. \n",
    "\n",
    "**Hint**: use `spatial.distance.euclidean(x,y)`."
   ]
  },
  {
   "cell_type": "code",
   "execution_count": 8,
   "metadata": {
    "collapsed": true
   },
   "outputs": [],
   "source": [
    "# Write your code here."
   ]
  },
  {
   "cell_type": "markdown",
   "metadata": {},
   "source": [
    "### Task 3 [2.5 pts]\n",
    "\n",
    "Write a generic function that calculates Pearson correlation between two arrays `a` and `b`. "
   ]
  },
  {
   "cell_type": "code",
   "execution_count": 9,
   "metadata": {
    "collapsed": true
   },
   "outputs": [],
   "source": [
    "def pearsonr(a,b):\n",
    "    \n",
    "    # Write your code here.\n",
    "    \n",
    "    return corr"
   ]
  },
  {
   "cell_type": "markdown",
   "metadata": {
    "collapsed": true
   },
   "source": [
    "### Task 4 [1 pt]\n",
    "\n",
    "Calculate and report the Pearson correlation between empirical ratings in \"goodness\" and distances of birds to prototype."
   ]
  },
  {
   "cell_type": "code",
   "execution_count": 10,
   "metadata": {
    "collapsed": true
   },
   "outputs": [],
   "source": [
    "# Write your code here."
   ]
  },
  {
   "cell_type": "markdown",
   "metadata": {
    "collapsed": true
   },
   "source": [
    "### Task 5 & Task 6 [2 pts]\n",
    "**Task 5**: Scatter-plot \"goodness\" ratings (y-axis) against distances of birds to prototype (x-axis); label both axes. **[1 pt]**\n",
    "\n",
    "**Task 6**: Fit a line to these data points and show that line on the plot. **[1 pt]**"
   ]
  },
  {
   "cell_type": "code",
   "execution_count": 11,
   "metadata": {
    "collapsed": true
   },
   "outputs": [],
   "source": [
    "# Write your code here."
   ]
  },
  {
   "cell_type": "markdown",
   "metadata": {},
   "source": [
    "### Task 7 [3 pts]\n",
    "**Task 7**: a) Propose and justify a simple method of improving the correlation; b) Implement your proposal and show it works. **[3 pts]**\n"
   ]
  },
  {
   "cell_type": "code",
   "execution_count": null,
   "metadata": {
    "collapsed": true
   },
   "outputs": [],
   "source": [
    "# Write your solution here."
   ]
  },
  {
   "cell_type": "markdown",
   "metadata": {},
   "source": [
    "Export and submit a **fully executable** Python Jupyter Notebook and a PDF copy of your notebook showing all results. "
   ]
  },
  {
   "cell_type": "code",
   "execution_count": null,
   "metadata": {
    "collapsed": true
   },
   "outputs": [],
   "source": []
  }
 ],
 "metadata": {
  "anaconda-cloud": {},
  "kernelspec": {
   "display_name": "Python 3",
   "language": "python",
   "name": "python3"
  },
  "language_info": {
   "codemirror_mode": {
    "name": "ipython",
    "version": 3
   },
   "file_extension": ".py",
   "mimetype": "text/x-python",
   "name": "python",
   "nbconvert_exporter": "python",
   "pygments_lexer": "ipython3",
   "version": "3.6.1"
  }
 },
 "nbformat": 4,
 "nbformat_minor": 1
}
