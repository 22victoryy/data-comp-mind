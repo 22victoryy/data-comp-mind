{
 "cells": [
  {
   "cell_type": "markdown",
   "metadata": {},
   "source": [
    "## Lab 5 - Categorization"
   ]
  },
  {
   "cell_type": "markdown",
   "metadata": {},
   "source": [
    "This lab must be done **individually**. The required packages have been imported for you below."
   ]
  },
  {
   "cell_type": "code",
   "execution_count": 3,
   "metadata": {
    "collapsed": true
   },
   "outputs": [],
   "source": [
    "import matplotlib.pyplot as plt\n",
    "import numpy as np\n",
    "import pandas as pd\n",
    "from scipy import spatial  \n",
    "from sklearn.model_selection import LeaveOneOut"
   ]
  },
  {
   "cell_type": "markdown",
   "metadata": {},
   "source": [
    "Data adapted from Leuven Concept Database (De Deyne et al., 2008).\n",
    "\n",
    "Extract data from file."
   ]
  },
  {
   "cell_type": "code",
   "execution_count": 4,
   "metadata": {
    "collapsed": true
   },
   "outputs": [],
   "source": [
    "df = pd.read_csv('data-categorization.csv')"
   ]
  },
  {
   "cell_type": "markdown",
   "metadata": {},
   "source": [
    "Get feature list."
   ]
  },
  {
   "cell_type": "code",
   "execution_count": 5,
   "metadata": {
    "collapsed": true
   },
   "outputs": [],
   "source": [
    "features = list(df.features)\n",
    "features.remove('category')"
   ]
  },
  {
   "cell_type": "markdown",
   "metadata": {},
   "source": [
    "Get names of all animals."
   ]
  },
  {
   "cell_type": "code",
   "execution_count": 6,
   "metadata": {
    "collapsed": true
   },
   "outputs": [],
   "source": [
    "names = list(df); del names[0]"
   ]
  },
  {
   "cell_type": "markdown",
   "metadata": {},
   "source": [
    "Get binary feature matrix (animal-by-feature)."
   ]
  },
  {
   "cell_type": "code",
   "execution_count": 7,
   "metadata": {
    "collapsed": true
   },
   "outputs": [],
   "source": [
    "F = pd.read_csv(\"data-categorization.csv\", header=0, usecols=list(np.arange(1,54)))\n",
    "F = np.asarray(F)"
   ]
  },
  {
   "cell_type": "markdown",
   "metadata": {},
   "source": [
    "Get category labels."
   ]
  },
  {
   "cell_type": "code",
   "execution_count": 8,
   "metadata": {
    "collapsed": true
   },
   "outputs": [],
   "source": [
    "labels = F[len(F)-1,:]"
   ]
  },
  {
   "cell_type": "markdown",
   "metadata": {},
   "source": [
    "Config `F` such that each row is feature vector of one animal.\n",
    "\n",
    "Each column is either a bird (category label = 0) or a fish (category label = 1)."
   ]
  },
  {
   "cell_type": "code",
   "execution_count": 9,
   "metadata": {
    "collapsed": true
   },
   "outputs": [],
   "source": [
    "F = np.delete(F,len(F)-1,0) \n",
    "F = np.transpose(F)"
   ]
  },
  {
   "cell_type": "markdown",
   "metadata": {},
   "source": [
    "You should have the following variables:\n",
    "\n",
    "(**Hint**: Print them out to see what they are).\n",
    "\n",
    "1. Main variables you'll need for analysis:\n",
    "    - `F`:        53-by-44 binary matrix, i.e. 53 animal exemplars (30 birds and 23 fish) and 44 features\n",
    "    - `labels`:   53 binary category labels (0 for bird; 1 for fish), i.e. ground truth that you'll predict\n",
    "    \n",
    "    \n",
    "2. Auxillary variables\n",
    "    - `names`:    53 animal names\n",
    "    - `features`: 44 feature names\n",
    "    \n",
    "In this lab, you will implement, evaluate, and analyze two models of categorization, based on the prototype and exemplar theories. You will test these models against a dataset of birds and fish, features and category labels of which have been provided in the matrix and array processed for you (see above). \n",
    "\n",
    "You will first be guided through a non-assessed visualization, via multi-dimensional scaling (MDS)---this will offer you an intuition of the data you work with in a 2D space. You will then implement each of the two models, evaluate them in leave-one-out-cross-validation (as discussed in class), and interpret the errors made by each model."
   ]
  },
  {
   "cell_type": "markdown",
   "metadata": {},
   "source": [
    "### Data visualization (not assessed)\n",
    "\n",
    "Run the code below to visualize the animals in two dimensions, via multi-dimensional scaling."
   ]
  },
  {
   "cell_type": "code",
   "execution_count": null,
   "metadata": {
    "collapsed": true
   },
   "outputs": [],
   "source": [
    "from sklearn.manifold import MDS\n",
    "\n",
    "embedding = MDS(n_components=2)\n",
    "F_lowdim = embedding.fit_transform(F)\n",
    "\n",
    "birdinds = np.where(labels==0)\n",
    "fishinds = np.where(labels==1)\n",
    "\n",
    "fig = plt.figure(figsize=(20, 10))\n",
    "plt.plot(F_lowdim[birdinds,0],F_lowdim[birdinds,1],'bo',markersize=12)\n",
    "plt.plot(F_lowdim[fishinds,0],F_lowdim[fishinds,1],'gs',markersize=12)\n",
    "\n",
    "for i in range(0,len(F)):\n",
    "    plt.text(F_lowdim[i,0]*1.1,F_lowdim[i,1]*1.1,names[i],fontsize=17)\n",
    "    \n",
    "plt.xlabel('Dimension 1')    \n",
    "plt.ylabel('Dimension 2')    \n",
    "\n",
    "# plt.show()"
   ]
  },
  {
   "cell_type": "markdown",
   "metadata": {},
   "source": [
    "### Tasks 1-3 [10 pts] \n",
    "**Task 1**: Evaluate each model by standard leave-one-animal-out cross validation. **[2 pts]**\n",
    "\n",
    "**Task 2**: Implement two models of categorization: a prototype model **[2pts]** and an exemplar model **[2pts]**.\n",
    "\n",
    "**Task 3**: Report predictive accuracy of each model in percentage (i.e. % correct predictions out of 53 animals). **[1 pt]**\n",
    "\n",
    "**Task 4**: Perform an error analysis on the two models (i.e. report which exemplars each model failed on), then compare and discuss why the errors look the way they do. **[3 pts]**\n",
    "\n",
    "\n",
    "**Hint:** Consider using the following wrapper code for performing the leave-one-out (LOO) cross validation.\n",
    "\n",
    "You may also want to refer to description and example code here: http://scikit-learn.org/stable/modules/generated/sklearn.model_selection.LeaveOneOut.html"
   ]
  },
  {
   "cell_type": "code",
   "execution_count": 11,
   "metadata": {
    "collapsed": true
   },
   "outputs": [],
   "source": [
    "# loo = LeaveOneOut()\n",
    "# loo.get_n_splits(F)\n",
    "#\n",
    "# for train_index, test_index in loo.split(F):\n",
    "#\n",
    "#     ...... your code here ......\n",
    "#\n",
    "#     1) Get training and testing data points\n",
    "#\n",
    "#     2.1) Implement and predict with prototype model\n",
    "#\n",
    "#     2.2) Implement and predict with exemplar model\n",
    "#\n",
    "# 3) Report predictive accuracies (%)"
   ]
  },
  {
   "cell_type": "markdown",
   "metadata": {},
   "source": [
    "Export and submit a **fully executable** Python Jupyter Notebook and a PDF copy of your notebook showing all results. "
   ]
  },
  {
   "cell_type": "code",
   "execution_count": null,
   "metadata": {
    "collapsed": true
   },
   "outputs": [],
   "source": []
  }
 ],
 "metadata": {
  "anaconda-cloud": {},
  "kernelspec": {
   "display_name": "Python 3",
   "language": "python",
   "name": "python3"
  },
  "language_info": {
   "codemirror_mode": {
    "name": "ipython",
    "version": 3
   },
   "file_extension": ".py",
   "mimetype": "text/x-python",
   "name": "python",
   "nbconvert_exporter": "python",
   "pygments_lexer": "ipython3",
   "version": "3.6.1"
  }
 },
 "nbformat": 4,
 "nbformat_minor": 1
}
